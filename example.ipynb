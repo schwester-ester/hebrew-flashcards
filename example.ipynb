{
 "cells": [
  {
   "cell_type": "code",
   "execution_count": null,
   "id": "008befad",
   "metadata": {},
   "outputs": [],
   "source": [
    "import hashlib\n",
    "from dataclasses import asdict, dataclass, fields\n",
    "from enum import Enum\n",
    "from typing import Optional, Literal, List, Type\n",
    "import pandas as pd\n",
    "import genanki\n",
    "import os\n",
    "from words import (\n",
    "    HebrewWord,\n",
    "    HebrewNoun,\n",
    "    HebrewVerb,\n",
    "    HebrewAdjective,\n",
    "    HebrewAdverb,\n",
    "    HebrewPreposition,\n",
    ")\n",
    "from words import Binyaan, BINYAAN_MAP, PartOfSpeech\n",
    "from serial import to_dataframe, from_dataframe\n",
    "from util import yes_or_no_input\n",
    "\n",
    "from audio import prepare_audio, get_google_tts_audio_url, get_audio, add_audios\n",
    "\n",
    "from selenium import webdriver\n",
    "from selenium.webdriver.common.by import By\n",
    "from translator import scrape_hebrew_word, lookup_hebrew_word, translate_text\n",
    "from selenium import webdriver\n",
    "\n",
    "from selenium.webdriver.common.by import By\n",
    "from selenium.webdriver.chrome.options import Options\n",
    "from serial import get_note_id_from_word\n",
    "\n",
    "from anki import upload_words_to_anki"
   ]
  },
  {
   "cell_type": "code",
   "execution_count": null,
   "id": "d94483df",
   "metadata": {},
   "outputs": [],
   "source": [
    "# TODO: handle the case for scraping a word if it's both singular/plural, if both masculine/feminine\n",
    "# TODO: when the user is presented with a set of meaning for a word, also print info about masculine/feminine/etc. \n",
    "# so that they can pick the correct entry\n",
    "# TODO: make the interface for choosing the meanings and choosing the audio a LOT nicer, and possibly less buggy"
   ]
  },
  {
   "cell_type": "markdown",
   "id": "a297d063",
   "metadata": {},
   "source": [
    "# Example"
   ]
  },
  {
   "cell_type": "code",
   "execution_count": null,
   "id": "79345657",
   "metadata": {},
   "outputs": [],
   "source": [
    "# Start the selenium driver \n",
    "options = Options()\n",
    "# chrome_options.add_argument(\"--headless\") # if you don't want the browser popping up\n",
    "driver = webdriver.Chrome(options=options)"
   ]
  },
  {
   "cell_type": "code",
   "execution_count": null,
   "id": "f86d9241",
   "metadata": {},
   "outputs": [],
   "source": [
    "# Translation: \"What is done / happens in nature -- [is] simply seven times as fun!\"\n",
    "# Note to Sigster: Hebrew is written right to left! :)\n",
    "example = \"מה שקורה בטבע – פשוט כיף פי שבע\""
   ]
  },
  {
   "cell_type": "code",
   "execution_count": null,
   "id": "d1fa8f4a",
   "metadata": {},
   "outputs": [],
   "source": [
    "# Jupyter notebook is sometimes laggy with user input... so if it says that it's looking up a word and no options are popping up,\n",
    "# just press Enter again and then the output should be visible.\n",
    "\n",
    "# if lookup_audio is set to True, then the output will contain HebrewWord objects who already have the\n",
    "# path_to_audio attribute set to the Google Translate audio. Sadly, Google is lacking in this department,\n",
    "# so the audio can be incorrect. So it's better to set lookup_audio to False and then call add_audios on the output,\n",
    "# so that the user can manually go through and check which links have correct audio to keep, if necessary. \n",
    "example_translated, failed_words = translate_text(example, driver, lookup_audio=False)"
   ]
  },
  {
   "cell_type": "code",
   "execution_count": null,
   "id": "dbe79287",
   "metadata": {},
   "outputs": [],
   "source": [
    "example_translated"
   ]
  },
  {
   "cell_type": "code",
   "execution_count": null,
   "id": "fd081837",
   "metadata": {},
   "outputs": [],
   "source": [
    "example_translated_with_audio = add_audios(example_translated)"
   ]
  },
  {
   "cell_type": "code",
   "execution_count": null,
   "id": "ae7a3b17",
   "metadata": {},
   "outputs": [],
   "source": [
    "upload_words_to_anki(example_translated_with_audio, \"SmallDeck\")"
   ]
  },
  {
   "cell_type": "markdown",
   "id": "1d05d645",
   "metadata": {},
   "source": [
    "# Words by Frequency Example"
   ]
  },
  {
   "cell_type": "code",
   "execution_count": null,
   "id": "4d89d290",
   "metadata": {},
   "outputs": [],
   "source": [
    "# Ideally, I'll go through and make flashcards for this frequency list just once and publish them publicly to Anki\n",
    "words_by_freq_df = pd.read_csv(\"resources/frequency_list.csv\", index_col=0)\n",
    "top30_words = list(words_by_freq_df['word'].head(30))"
   ]
  },
  {
   "cell_type": "code",
   "execution_count": null,
   "id": "8c2e8599",
   "metadata": {},
   "outputs": [],
   "source": [
    "top30_translated = translate_text(top30_words, driver, lookup_audio=False)"
   ]
  }
 ],
 "metadata": {
  "kernelspec": {
   "display_name": "venv",
   "language": "python",
   "name": "python3"
  },
  "language_info": {
   "codemirror_mode": {
    "name": "ipython",
    "version": 3
   },
   "file_extension": ".py",
   "mimetype": "text/x-python",
   "name": "python",
   "nbconvert_exporter": "python",
   "pygments_lexer": "ipython3",
   "version": "3.13.2"
  }
 },
 "nbformat": 4,
 "nbformat_minor": 5
}
